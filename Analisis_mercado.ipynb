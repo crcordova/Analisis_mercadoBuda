{
 "cells": [
  {
   "cell_type": "code",
   "execution_count": 2,
   "source": [
    "import requests\n",
    "import pandas as pd\n",
    "import numpy as np\n",
    "import plotly.express as px"
   ],
   "outputs": [],
   "metadata": {}
  },
  {
   "cell_type": "code",
   "execution_count": 3,
   "source": [
    "def last_price(market_id):\n",
    "\n",
    "    url = f'https://www.buda.com/api/v2/markets/{market_id}/ticker'\n",
    "    response = requests.get(url)\n",
    "    ticker_info = response.json()\n",
    "    return float(ticker_info['ticker']['last_price'][0])\n",
    "\n",
    "def precio_ponderado_order(df, x):\n",
    "    '''funcion calcula el precio ponderado si quiero ejecutar x cantidad\n",
    "    df: dataframe con ordenes\n",
    "    x: cantidad de cripto'''\n",
    "    \n",
    "    _df = df[df['Acum_vol']<= x].append(df[df['Acum_vol']>= x].head(1))\n",
    "    _df.iloc[-1, _df.columns.get_loc('Acum_vol')] = x\n",
    "    _df.iloc[-1, _df.columns.get_loc('volume')] = x - _df.iloc[-2]['Acum_vol']\n",
    "\n",
    "    return ((_df['price'] * _df['volume']).sum()) / (_df['volume'].sum())\n",
    "\n",
    "class Market():\n",
    "\n",
    "    def __init__(self, market_id):\n",
    "        self.id = market_id\n",
    "        self.price = last_price(self.id)\n",
    "        self.orders = False\n",
    "        \n",
    "    def __str__(self):\n",
    "        return ('mercado %s Last Price: %s' %(self.id, self.price) )\n",
    "\n",
    "    def last_price(self):\n",
    "        self.price = last_price(self.id)\n",
    "        return self.price\n",
    "    \n",
    "    def order_book(self, tipo=None):\n",
    "        '''\n",
    "        funcion obtiene libro de ordenes\n",
    "        tipo: [asks, bids]. None entregara ambos libros\n",
    "        '''\n",
    "        market_id = self.id\n",
    "        self.orders = pd.DataFrame()\n",
    "        url = f'https://www.buda.com/api/v2/markets/{market_id}/order_book'\n",
    "        response = requests.get(url)\n",
    "        order_book = response.json()['order_book']\n",
    "        columnas = ['price', 'volume']\n",
    "        df_a = pd.DataFrame(order_book['asks'], columns=columnas).astype(float)\n",
    "        df_a['tip'] = 'asks'\n",
    "        df_a.set_index('tip', inplace=True)\n",
    "        df_b = pd.DataFrame(order_book['bids'], columns=columnas).astype(float)\n",
    "        df_b['tip'] = 'bids'\n",
    "        df_b.set_index('tip', inplace=True)\n",
    "        \n",
    "        self.orders = pd.concat([df_a, df_b])\n",
    "\n",
    "        if tipo == 'asks':\n",
    "            return df_a\n",
    "        elif tipo == 'bids':\n",
    "            return df_b\n",
    "        else:\n",
    "            return self.orders\n",
    "\n",
    "    def market_liquidity(self):\n",
    "        \n",
    "        self.order_book()\n",
    "        \n",
    "        # Suma Volumnes tottales agrupa en bid y en ask\n",
    "        liqdty_idx = pd.pivot_table(self.orders, index=self.orders.index, values='volume', aggfunc=np.sum)\n",
    "        # liqdty_idx['Precio_Ponderado'] = self.orders.groupby(self.orders.index).apply(lambda x: np.average(x['price'], weights=x['volume']))\n",
    "        # Separo libros por tipo y ordeno por precio\n",
    "        df_ask = self.orders.loc['asks'].sort_values('price')\n",
    "        df_bid = self.orders.loc['bids'].sort_values('price', ascending=False)\n",
    "\n",
    "        # creo columna de suma acumulada\n",
    "        df_ask['Acum_vol'] = df_ask['volume'].cumsum()\n",
    "        df_bid['Acum_vol'] = df_bid['volume'].cumsum()\n",
    "        \n",
    "        for x in np.linspace(0.1,1,10):\n",
    "            # Creo rangos 10%, 20%... 100% del volumnes total\n",
    "            x_ask = liqdty_idx['volume']['asks'] * x\n",
    "            x_bid = liqdty_idx['volume']['bids'] * x\n",
    "            # cAculo precio ponderado y guardo en liqdty_idx\n",
    "            liqdty_idx['wght_price'+str(int(x*100)) +'%'] = [precio_ponderado_order(df_ask, x_ask), precio_ponderado_order(df_bid, x_bid)]\n",
    "\n",
    "        return liqdty_idx\n",
    "\n",
    "    def market_cap(self):\n",
    "\n",
    "        self.order_book()\n",
    "\n",
    "        # Volumne total * last price\n",
    "        cap_a = self.orders.loc['asks']['volume'].sum() * self.last_price()\n",
    "        cap_b = self.orders.loc['bids']['volume'].sum() * self.last_price()\n",
    "        return ({'asks':cap_a, 'bids': cap_b})\n",
    "\n",
    "\n",
    "    def cantidad_mercado_impacto(self, q, tipo = 'buy'):\n",
    "        '''funcion \n",
    "        devuelve la cantidad q hay q vender/comprar para que el precio cambie en q%\n",
    "        '''\n",
    "        self.order_book()\n",
    "        \n",
    "        if tipo == 'buy':\n",
    "            df = self.orders.loc['asks']\n",
    "            df['Cumulative'] = df['volume'].cumsum()\n",
    "            price_limit = self.price * (1 + q)\n",
    "            df = df[df['price']>=price_limit]\n",
    "        else:\n",
    "            df = self.orders.loc['bids']\n",
    "            df['Cumulative'] = df['volume'].cumsum()\n",
    "            price_limit = self.price * (1 - q)\n",
    "            df = df[df['price']<=price_limit]\n",
    "\n",
    "        return df['Cumulative'].values[0]\n",
    "\n",
    "    def market_depth(self, tipo='asks'):\n",
    "        df_a = self.orders.loc[tipo]\n",
    "        df_a['Cumulative'] = df_a['volume'].cumsum()\n",
    "        df_a['change'] = df_a['price'] / self.price -1\n",
    "\n",
    "        # df_b = self.orders.loc['bids']\n",
    "        # df_b['Cumulative'] = df_b['volume'].cumsum()\n",
    "        # df_b['change'] = df_b['price'] / self.price -1\n",
    "\n",
    "        data = {}\n",
    "        for i in np.linspace(0.05,1,20):\n",
    "            if tipo == 'asks':\n",
    "                mount = df_a[df_a['change']>=i]['Cumulative'].values[0]\n",
    "            elif tipo =='bids':\n",
    "                mount = df_a[df_a['change']<=-i]['Cumulative'].min()\n",
    "            # data.append({tipo:{i:mount}})\n",
    "            data[i]= [mount]\n",
    "            # data.append({'bid':{i:mount_b}})\n",
    "\n",
    "        return data\n",
    "\n",
    "    def precio_fin_order(self, p, tipo='asks'):\n",
    "        '''\n",
    "        devuelve el precio final que quedara el mercado despues de ejecutar p unidades\n",
    "        '''\n",
    "        df = self.orders.loc[tipo]\n",
    "        df['Cumulative'] = df['volume'].cumsum()\n",
    "        \n",
    "        df = df[df['Cumulative']>=p]\n",
    "        price = df['price'].values[0]\n",
    "        return {'price:': price, 'Change:': price /self.price -1}"
   ],
   "outputs": [],
   "metadata": {}
  },
  {
   "cell_type": "markdown",
   "source": [
    "### Creamos el mercado que vamos a analizar"
   ],
   "metadata": {}
  },
  {
   "cell_type": "code",
   "execution_count": 4,
   "source": [
    "btc = Market('btc-clp')\n",
    "btc.order_book() # Descargamos libro de ordenes\n",
    "print('precio: '+ str(btc.price))"
   ],
   "outputs": [
    {
     "output_type": "stream",
     "name": "stdout",
     "text": [
      "precio: 51589227.0\n"
     ]
    }
   ],
   "metadata": {}
  },
  {
   "cell_type": "markdown",
   "source": [
    "##### Suma Total de ordenes (asks y bids)"
   ],
   "metadata": {}
  },
  {
   "cell_type": "code",
   "execution_count": 5,
   "source": [
    "btc.market_liquidity()[['volume']]"
   ],
   "outputs": [
    {
     "output_type": "execute_result",
     "data": {
      "text/plain": [
       "          volume\n",
       "tip             \n",
       "asks   37.924276\n",
       "bids  173.265874"
      ],
      "text/html": [
       "<div>\n",
       "<style scoped>\n",
       "    .dataframe tbody tr th:only-of-type {\n",
       "        vertical-align: middle;\n",
       "    }\n",
       "\n",
       "    .dataframe tbody tr th {\n",
       "        vertical-align: top;\n",
       "    }\n",
       "\n",
       "    .dataframe thead th {\n",
       "        text-align: right;\n",
       "    }\n",
       "</style>\n",
       "<table border=\"1\" class=\"dataframe\">\n",
       "  <thead>\n",
       "    <tr style=\"text-align: right;\">\n",
       "      <th></th>\n",
       "      <th>volume</th>\n",
       "    </tr>\n",
       "    <tr>\n",
       "      <th>tip</th>\n",
       "      <th></th>\n",
       "    </tr>\n",
       "  </thead>\n",
       "  <tbody>\n",
       "    <tr>\n",
       "      <th>asks</th>\n",
       "      <td>37.924276</td>\n",
       "    </tr>\n",
       "    <tr>\n",
       "      <th>bids</th>\n",
       "      <td>173.265874</td>\n",
       "    </tr>\n",
       "  </tbody>\n",
       "</table>\n",
       "</div>"
      ]
     },
     "metadata": {},
     "execution_count": 5
    }
   ],
   "metadata": {}
  },
  {
   "cell_type": "markdown",
   "source": [
    "##### Cantidad de BTC que hay q ejecutar para cambiar el precio en distintos proporciones"
   ],
   "metadata": {}
  },
  {
   "cell_type": "code",
   "execution_count": 6,
   "source": [
    "# podemos obtener la cantidad necesaria de bitcoin q hay que comprar para mover el precio en un 5%\n",
    "btc.cantidad_mercado_impacto(0.05, 'buy')"
   ],
   "outputs": [
    {
     "output_type": "execute_result",
     "data": {
      "text/plain": [
       "13.934063989999999"
      ]
     },
     "metadata": {},
     "execution_count": 6
    }
   ],
   "metadata": {}
  },
  {
   "cell_type": "code",
   "execution_count": 7,
   "source": [
    "# Tabla con distintos rangos de cambios porcentuales\n",
    "pd.concat([pd.DataFrame(btc.market_depth('asks'), index=['asks']),pd.DataFrame(btc.market_depth('bids'), index=['bids'])])\n"
   ],
   "outputs": [
    {
     "output_type": "execute_result",
     "data": {
      "text/plain": [
       "           0.05       0.10       0.15       0.20       0.25       0.30  \\\n",
       "asks  13.934064  17.951404  19.943406  22.340544  22.843819  23.814000   \n",
       "bids   6.897998  14.346565  20.291564  22.698306  26.078601  28.712883   \n",
       "\n",
       "           0.35       0.40       0.45       0.50      0.55       0.60  \\\n",
       "asks  23.871092  25.396133  25.702814  26.072219  26.36751  27.316031   \n",
       "bids  35.652167  38.462039  41.825089  43.624634  44.87391  46.402785   \n",
       "\n",
       "           0.65       0.70       0.75       0.80       0.85       0.90  \\\n",
       "asks  27.323217  27.342972  27.738330  27.792835  28.064347  28.570559   \n",
       "bids  48.126624  60.702042  62.250174  63.731578  68.887574  70.228074   \n",
       "\n",
       "           0.95       1.00  \n",
       "asks  30.044242  30.044242  \n",
       "bids  70.759252        NaN  "
      ],
      "text/html": [
       "<div>\n",
       "<style scoped>\n",
       "    .dataframe tbody tr th:only-of-type {\n",
       "        vertical-align: middle;\n",
       "    }\n",
       "\n",
       "    .dataframe tbody tr th {\n",
       "        vertical-align: top;\n",
       "    }\n",
       "\n",
       "    .dataframe thead th {\n",
       "        text-align: right;\n",
       "    }\n",
       "</style>\n",
       "<table border=\"1\" class=\"dataframe\">\n",
       "  <thead>\n",
       "    <tr style=\"text-align: right;\">\n",
       "      <th></th>\n",
       "      <th>0.05</th>\n",
       "      <th>0.10</th>\n",
       "      <th>0.15</th>\n",
       "      <th>0.20</th>\n",
       "      <th>0.25</th>\n",
       "      <th>0.30</th>\n",
       "      <th>0.35</th>\n",
       "      <th>0.40</th>\n",
       "      <th>0.45</th>\n",
       "      <th>0.50</th>\n",
       "      <th>0.55</th>\n",
       "      <th>0.60</th>\n",
       "      <th>0.65</th>\n",
       "      <th>0.70</th>\n",
       "      <th>0.75</th>\n",
       "      <th>0.80</th>\n",
       "      <th>0.85</th>\n",
       "      <th>0.90</th>\n",
       "      <th>0.95</th>\n",
       "      <th>1.00</th>\n",
       "    </tr>\n",
       "  </thead>\n",
       "  <tbody>\n",
       "    <tr>\n",
       "      <th>asks</th>\n",
       "      <td>13.934064</td>\n",
       "      <td>17.951404</td>\n",
       "      <td>19.943406</td>\n",
       "      <td>22.340544</td>\n",
       "      <td>22.843819</td>\n",
       "      <td>23.814000</td>\n",
       "      <td>23.871092</td>\n",
       "      <td>25.396133</td>\n",
       "      <td>25.702814</td>\n",
       "      <td>26.072219</td>\n",
       "      <td>26.36751</td>\n",
       "      <td>27.316031</td>\n",
       "      <td>27.323217</td>\n",
       "      <td>27.342972</td>\n",
       "      <td>27.738330</td>\n",
       "      <td>27.792835</td>\n",
       "      <td>28.064347</td>\n",
       "      <td>28.570559</td>\n",
       "      <td>30.044242</td>\n",
       "      <td>30.044242</td>\n",
       "    </tr>\n",
       "    <tr>\n",
       "      <th>bids</th>\n",
       "      <td>6.897998</td>\n",
       "      <td>14.346565</td>\n",
       "      <td>20.291564</td>\n",
       "      <td>22.698306</td>\n",
       "      <td>26.078601</td>\n",
       "      <td>28.712883</td>\n",
       "      <td>35.652167</td>\n",
       "      <td>38.462039</td>\n",
       "      <td>41.825089</td>\n",
       "      <td>43.624634</td>\n",
       "      <td>44.87391</td>\n",
       "      <td>46.402785</td>\n",
       "      <td>48.126624</td>\n",
       "      <td>60.702042</td>\n",
       "      <td>62.250174</td>\n",
       "      <td>63.731578</td>\n",
       "      <td>68.887574</td>\n",
       "      <td>70.228074</td>\n",
       "      <td>70.759252</td>\n",
       "      <td>NaN</td>\n",
       "    </tr>\n",
       "  </tbody>\n",
       "</table>\n",
       "</div>"
      ]
     },
     "metadata": {},
     "execution_count": 7
    }
   ],
   "metadata": {}
  },
  {
   "cell_type": "markdown",
   "source": [
    "#### precio final si vendemos x BTC"
   ],
   "metadata": {}
  },
  {
   "cell_type": "code",
   "execution_count": 8,
   "source": [
    "btc.precio_fin_order(5, 'bids')"
   ],
   "outputs": [
    {
     "output_type": "execute_result",
     "data": {
      "text/plain": [
       "{'price:': 49532000.0, 'Change:': -0.03987706580678174}"
      ]
     },
     "metadata": {},
     "execution_count": 8
    }
   ],
   "metadata": {}
  },
  {
   "cell_type": "code",
   "execution_count": 9,
   "source": [
    "df = btc.orders.loc['bids']\n",
    "df['Cumulative'] = df['volume'].cumsum()\n",
    "precios_list = [[0, btc.price]]\n",
    "for i in np.arange(0.5, 20, 0.5):\n",
    "    _df = df[df['Cumulative']<= i]\n",
    "    precios_list.append([i, _df['price'].min()]) #min con bids max con asks\n",
    "\n",
    "df = pd.DataFrame(precios_list, columns=['Cantidad_BTC','Precio'])\n",
    "import plotly.graph_objects as go\n",
    "from plotly.subplots import make_subplots\n",
    "\n",
    "# Create figure with secondary y-axis\n",
    "fig = make_subplots(specs=[[{\"secondary_y\": True}]])\n",
    "\n",
    "# Add traces\n",
    "fig.add_trace(\n",
    "    go.Scatter(x=df['Cantidad_BTC'], y=df['Precio'], name=\"Precio\"),\n",
    "    secondary_y=False,\n",
    ")\n",
    "\n",
    "# Add figure title\n",
    "fig.update_layout(\n",
    "    title_text=\"Impacto en el mercado\"\n",
    ")\n",
    "\n",
    "# Set x-axis title\n",
    "fig.update_xaxes(title_text=\"Monto BTC\")\n",
    "\n",
    "# Set y-axes titles\n",
    "fig.update_yaxes(title_text=\"Precio\", secondary_y=False)\n",
    "fig.update_yaxes(title_text=\"cambio%\", secondary_y=True)\n",
    "\n",
    "fig.show()"
   ],
   "outputs": [
    {
     "output_type": "display_data",
     "data": {
      "application/vnd.plotly.v1+json": {
       "config": {
        "plotlyServerURL": "https://plot.ly"
       },
       "data": [
        {
         "name": "Precio",
         "type": "scatter",
         "x": [
          0,
          0.5,
          1,
          1.5,
          2,
          2.5,
          3,
          3.5,
          4,
          4.5,
          5,
          5.5,
          6,
          6.5,
          7,
          7.5,
          8,
          8.5,
          9,
          9.5,
          10,
          10.5,
          11,
          11.5,
          12,
          12.5,
          13,
          13.5,
          14,
          14.5,
          15,
          15.5,
          16,
          16.5,
          17,
          17.5,
          18,
          18.5,
          19,
          19.5
         ],
         "xaxis": "x",
         "y": [
          51589227,
          51400713,
          51400713,
          51054258,
          51054258,
          50401000,
          50000001,
          50000001,
          49950000,
          49757548,
          49537941,
          49500001,
          49350000,
          49200311,
          49000001,
          49000001,
          49000001,
          48900279,
          48800000,
          48150000,
          48000001,
          48000001,
          48000001,
          47500001,
          47500001,
          47050129,
          47000001,
          46822000,
          46501000,
          46260000,
          46000100,
          45500399,
          45011000,
          45011000,
          45011000,
          45011000,
          44636363,
          44500200,
          44154389,
          44069100
         ],
         "yaxis": "y"
        }
       ],
       "layout": {
        "template": {
         "data": {
          "bar": [
           {
            "error_x": {
             "color": "#2a3f5f"
            },
            "error_y": {
             "color": "#2a3f5f"
            },
            "marker": {
             "line": {
              "color": "#E5ECF6",
              "width": 0.5
             },
             "pattern": {
              "fillmode": "overlay",
              "size": 10,
              "solidity": 0.2
             }
            },
            "type": "bar"
           }
          ],
          "barpolar": [
           {
            "marker": {
             "line": {
              "color": "#E5ECF6",
              "width": 0.5
             },
             "pattern": {
              "fillmode": "overlay",
              "size": 10,
              "solidity": 0.2
             }
            },
            "type": "barpolar"
           }
          ],
          "carpet": [
           {
            "aaxis": {
             "endlinecolor": "#2a3f5f",
             "gridcolor": "white",
             "linecolor": "white",
             "minorgridcolor": "white",
             "startlinecolor": "#2a3f5f"
            },
            "baxis": {
             "endlinecolor": "#2a3f5f",
             "gridcolor": "white",
             "linecolor": "white",
             "minorgridcolor": "white",
             "startlinecolor": "#2a3f5f"
            },
            "type": "carpet"
           }
          ],
          "choropleth": [
           {
            "colorbar": {
             "outlinewidth": 0,
             "ticks": ""
            },
            "type": "choropleth"
           }
          ],
          "contour": [
           {
            "colorbar": {
             "outlinewidth": 0,
             "ticks": ""
            },
            "colorscale": [
             [
              0,
              "#0d0887"
             ],
             [
              0.1111111111111111,
              "#46039f"
             ],
             [
              0.2222222222222222,
              "#7201a8"
             ],
             [
              0.3333333333333333,
              "#9c179e"
             ],
             [
              0.4444444444444444,
              "#bd3786"
             ],
             [
              0.5555555555555556,
              "#d8576b"
             ],
             [
              0.6666666666666666,
              "#ed7953"
             ],
             [
              0.7777777777777778,
              "#fb9f3a"
             ],
             [
              0.8888888888888888,
              "#fdca26"
             ],
             [
              1,
              "#f0f921"
             ]
            ],
            "type": "contour"
           }
          ],
          "contourcarpet": [
           {
            "colorbar": {
             "outlinewidth": 0,
             "ticks": ""
            },
            "type": "contourcarpet"
           }
          ],
          "heatmap": [
           {
            "colorbar": {
             "outlinewidth": 0,
             "ticks": ""
            },
            "colorscale": [
             [
              0,
              "#0d0887"
             ],
             [
              0.1111111111111111,
              "#46039f"
             ],
             [
              0.2222222222222222,
              "#7201a8"
             ],
             [
              0.3333333333333333,
              "#9c179e"
             ],
             [
              0.4444444444444444,
              "#bd3786"
             ],
             [
              0.5555555555555556,
              "#d8576b"
             ],
             [
              0.6666666666666666,
              "#ed7953"
             ],
             [
              0.7777777777777778,
              "#fb9f3a"
             ],
             [
              0.8888888888888888,
              "#fdca26"
             ],
             [
              1,
              "#f0f921"
             ]
            ],
            "type": "heatmap"
           }
          ],
          "heatmapgl": [
           {
            "colorbar": {
             "outlinewidth": 0,
             "ticks": ""
            },
            "colorscale": [
             [
              0,
              "#0d0887"
             ],
             [
              0.1111111111111111,
              "#46039f"
             ],
             [
              0.2222222222222222,
              "#7201a8"
             ],
             [
              0.3333333333333333,
              "#9c179e"
             ],
             [
              0.4444444444444444,
              "#bd3786"
             ],
             [
              0.5555555555555556,
              "#d8576b"
             ],
             [
              0.6666666666666666,
              "#ed7953"
             ],
             [
              0.7777777777777778,
              "#fb9f3a"
             ],
             [
              0.8888888888888888,
              "#fdca26"
             ],
             [
              1,
              "#f0f921"
             ]
            ],
            "type": "heatmapgl"
           }
          ],
          "histogram": [
           {
            "marker": {
             "pattern": {
              "fillmode": "overlay",
              "size": 10,
              "solidity": 0.2
             }
            },
            "type": "histogram"
           }
          ],
          "histogram2d": [
           {
            "colorbar": {
             "outlinewidth": 0,
             "ticks": ""
            },
            "colorscale": [
             [
              0,
              "#0d0887"
             ],
             [
              0.1111111111111111,
              "#46039f"
             ],
             [
              0.2222222222222222,
              "#7201a8"
             ],
             [
              0.3333333333333333,
              "#9c179e"
             ],
             [
              0.4444444444444444,
              "#bd3786"
             ],
             [
              0.5555555555555556,
              "#d8576b"
             ],
             [
              0.6666666666666666,
              "#ed7953"
             ],
             [
              0.7777777777777778,
              "#fb9f3a"
             ],
             [
              0.8888888888888888,
              "#fdca26"
             ],
             [
              1,
              "#f0f921"
             ]
            ],
            "type": "histogram2d"
           }
          ],
          "histogram2dcontour": [
           {
            "colorbar": {
             "outlinewidth": 0,
             "ticks": ""
            },
            "colorscale": [
             [
              0,
              "#0d0887"
             ],
             [
              0.1111111111111111,
              "#46039f"
             ],
             [
              0.2222222222222222,
              "#7201a8"
             ],
             [
              0.3333333333333333,
              "#9c179e"
             ],
             [
              0.4444444444444444,
              "#bd3786"
             ],
             [
              0.5555555555555556,
              "#d8576b"
             ],
             [
              0.6666666666666666,
              "#ed7953"
             ],
             [
              0.7777777777777778,
              "#fb9f3a"
             ],
             [
              0.8888888888888888,
              "#fdca26"
             ],
             [
              1,
              "#f0f921"
             ]
            ],
            "type": "histogram2dcontour"
           }
          ],
          "mesh3d": [
           {
            "colorbar": {
             "outlinewidth": 0,
             "ticks": ""
            },
            "type": "mesh3d"
           }
          ],
          "parcoords": [
           {
            "line": {
             "colorbar": {
              "outlinewidth": 0,
              "ticks": ""
             }
            },
            "type": "parcoords"
           }
          ],
          "pie": [
           {
            "automargin": true,
            "type": "pie"
           }
          ],
          "scatter": [
           {
            "marker": {
             "colorbar": {
              "outlinewidth": 0,
              "ticks": ""
             }
            },
            "type": "scatter"
           }
          ],
          "scatter3d": [
           {
            "line": {
             "colorbar": {
              "outlinewidth": 0,
              "ticks": ""
             }
            },
            "marker": {
             "colorbar": {
              "outlinewidth": 0,
              "ticks": ""
             }
            },
            "type": "scatter3d"
           }
          ],
          "scattercarpet": [
           {
            "marker": {
             "colorbar": {
              "outlinewidth": 0,
              "ticks": ""
             }
            },
            "type": "scattercarpet"
           }
          ],
          "scattergeo": [
           {
            "marker": {
             "colorbar": {
              "outlinewidth": 0,
              "ticks": ""
             }
            },
            "type": "scattergeo"
           }
          ],
          "scattergl": [
           {
            "marker": {
             "colorbar": {
              "outlinewidth": 0,
              "ticks": ""
             }
            },
            "type": "scattergl"
           }
          ],
          "scattermapbox": [
           {
            "marker": {
             "colorbar": {
              "outlinewidth": 0,
              "ticks": ""
             }
            },
            "type": "scattermapbox"
           }
          ],
          "scatterpolar": [
           {
            "marker": {
             "colorbar": {
              "outlinewidth": 0,
              "ticks": ""
             }
            },
            "type": "scatterpolar"
           }
          ],
          "scatterpolargl": [
           {
            "marker": {
             "colorbar": {
              "outlinewidth": 0,
              "ticks": ""
             }
            },
            "type": "scatterpolargl"
           }
          ],
          "scatterternary": [
           {
            "marker": {
             "colorbar": {
              "outlinewidth": 0,
              "ticks": ""
             }
            },
            "type": "scatterternary"
           }
          ],
          "surface": [
           {
            "colorbar": {
             "outlinewidth": 0,
             "ticks": ""
            },
            "colorscale": [
             [
              0,
              "#0d0887"
             ],
             [
              0.1111111111111111,
              "#46039f"
             ],
             [
              0.2222222222222222,
              "#7201a8"
             ],
             [
              0.3333333333333333,
              "#9c179e"
             ],
             [
              0.4444444444444444,
              "#bd3786"
             ],
             [
              0.5555555555555556,
              "#d8576b"
             ],
             [
              0.6666666666666666,
              "#ed7953"
             ],
             [
              0.7777777777777778,
              "#fb9f3a"
             ],
             [
              0.8888888888888888,
              "#fdca26"
             ],
             [
              1,
              "#f0f921"
             ]
            ],
            "type": "surface"
           }
          ],
          "table": [
           {
            "cells": {
             "fill": {
              "color": "#EBF0F8"
             },
             "line": {
              "color": "white"
             }
            },
            "header": {
             "fill": {
              "color": "#C8D4E3"
             },
             "line": {
              "color": "white"
             }
            },
            "type": "table"
           }
          ]
         },
         "layout": {
          "annotationdefaults": {
           "arrowcolor": "#2a3f5f",
           "arrowhead": 0,
           "arrowwidth": 1
          },
          "autotypenumbers": "strict",
          "coloraxis": {
           "colorbar": {
            "outlinewidth": 0,
            "ticks": ""
           }
          },
          "colorscale": {
           "diverging": [
            [
             0,
             "#8e0152"
            ],
            [
             0.1,
             "#c51b7d"
            ],
            [
             0.2,
             "#de77ae"
            ],
            [
             0.3,
             "#f1b6da"
            ],
            [
             0.4,
             "#fde0ef"
            ],
            [
             0.5,
             "#f7f7f7"
            ],
            [
             0.6,
             "#e6f5d0"
            ],
            [
             0.7,
             "#b8e186"
            ],
            [
             0.8,
             "#7fbc41"
            ],
            [
             0.9,
             "#4d9221"
            ],
            [
             1,
             "#276419"
            ]
           ],
           "sequential": [
            [
             0,
             "#0d0887"
            ],
            [
             0.1111111111111111,
             "#46039f"
            ],
            [
             0.2222222222222222,
             "#7201a8"
            ],
            [
             0.3333333333333333,
             "#9c179e"
            ],
            [
             0.4444444444444444,
             "#bd3786"
            ],
            [
             0.5555555555555556,
             "#d8576b"
            ],
            [
             0.6666666666666666,
             "#ed7953"
            ],
            [
             0.7777777777777778,
             "#fb9f3a"
            ],
            [
             0.8888888888888888,
             "#fdca26"
            ],
            [
             1,
             "#f0f921"
            ]
           ],
           "sequentialminus": [
            [
             0,
             "#0d0887"
            ],
            [
             0.1111111111111111,
             "#46039f"
            ],
            [
             0.2222222222222222,
             "#7201a8"
            ],
            [
             0.3333333333333333,
             "#9c179e"
            ],
            [
             0.4444444444444444,
             "#bd3786"
            ],
            [
             0.5555555555555556,
             "#d8576b"
            ],
            [
             0.6666666666666666,
             "#ed7953"
            ],
            [
             0.7777777777777778,
             "#fb9f3a"
            ],
            [
             0.8888888888888888,
             "#fdca26"
            ],
            [
             1,
             "#f0f921"
            ]
           ]
          },
          "colorway": [
           "#636efa",
           "#EF553B",
           "#00cc96",
           "#ab63fa",
           "#FFA15A",
           "#19d3f3",
           "#FF6692",
           "#B6E880",
           "#FF97FF",
           "#FECB52"
          ],
          "font": {
           "color": "#2a3f5f"
          },
          "geo": {
           "bgcolor": "white",
           "lakecolor": "white",
           "landcolor": "#E5ECF6",
           "showlakes": true,
           "showland": true,
           "subunitcolor": "white"
          },
          "hoverlabel": {
           "align": "left"
          },
          "hovermode": "closest",
          "mapbox": {
           "style": "light"
          },
          "paper_bgcolor": "white",
          "plot_bgcolor": "#E5ECF6",
          "polar": {
           "angularaxis": {
            "gridcolor": "white",
            "linecolor": "white",
            "ticks": ""
           },
           "bgcolor": "#E5ECF6",
           "radialaxis": {
            "gridcolor": "white",
            "linecolor": "white",
            "ticks": ""
           }
          },
          "scene": {
           "xaxis": {
            "backgroundcolor": "#E5ECF6",
            "gridcolor": "white",
            "gridwidth": 2,
            "linecolor": "white",
            "showbackground": true,
            "ticks": "",
            "zerolinecolor": "white"
           },
           "yaxis": {
            "backgroundcolor": "#E5ECF6",
            "gridcolor": "white",
            "gridwidth": 2,
            "linecolor": "white",
            "showbackground": true,
            "ticks": "",
            "zerolinecolor": "white"
           },
           "zaxis": {
            "backgroundcolor": "#E5ECF6",
            "gridcolor": "white",
            "gridwidth": 2,
            "linecolor": "white",
            "showbackground": true,
            "ticks": "",
            "zerolinecolor": "white"
           }
          },
          "shapedefaults": {
           "line": {
            "color": "#2a3f5f"
           }
          },
          "ternary": {
           "aaxis": {
            "gridcolor": "white",
            "linecolor": "white",
            "ticks": ""
           },
           "baxis": {
            "gridcolor": "white",
            "linecolor": "white",
            "ticks": ""
           },
           "bgcolor": "#E5ECF6",
           "caxis": {
            "gridcolor": "white",
            "linecolor": "white",
            "ticks": ""
           }
          },
          "title": {
           "x": 0.05
          },
          "xaxis": {
           "automargin": true,
           "gridcolor": "white",
           "linecolor": "white",
           "ticks": "",
           "title": {
            "standoff": 15
           },
           "zerolinecolor": "white",
           "zerolinewidth": 2
          },
          "yaxis": {
           "automargin": true,
           "gridcolor": "white",
           "linecolor": "white",
           "ticks": "",
           "title": {
            "standoff": 15
           },
           "zerolinecolor": "white",
           "zerolinewidth": 2
          }
         }
        },
        "title": {
         "text": "Impacto en el mercado"
        },
        "xaxis": {
         "anchor": "y",
         "domain": [
          0,
          0.94
         ],
         "title": {
          "text": "Monto BTC"
         }
        },
        "yaxis": {
         "anchor": "x",
         "domain": [
          0,
          1
         ],
         "title": {
          "text": "Precio"
         }
        },
        "yaxis2": {
         "anchor": "x",
         "overlaying": "y",
         "side": "right",
         "title": {
          "text": "cambio%"
         }
        }
       }
      }
     },
     "metadata": {}
    }
   ],
   "metadata": {}
  },
  {
   "cell_type": "code",
   "execution_count": null,
   "source": [],
   "outputs": [],
   "metadata": {}
  }
 ],
 "metadata": {
  "orig_nbformat": 4,
  "language_info": {
   "name": "python",
   "version": "3.9.6",
   "mimetype": "text/x-python",
   "codemirror_mode": {
    "name": "ipython",
    "version": 3
   },
   "pygments_lexer": "ipython3",
   "nbconvert_exporter": "python",
   "file_extension": ".py"
  },
  "kernelspec": {
   "name": "python3",
   "display_name": "Python 3.9.6 64-bit"
  },
  "interpreter": {
   "hash": "aee8b7b246df8f9039afb4144a1f6fd8d2ca17a180786b69acc140d282b71a49"
  }
 },
 "nbformat": 4,
 "nbformat_minor": 2
}